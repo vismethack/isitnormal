{
  "nbformat": 4,
  "nbformat_minor": 0,
  "metadata": {
    "colab": {
      "name": "Copy of ECMWF_projct.ipynb",
      "provenance": [],
      "collapsed_sections": []
    },
    "kernelspec": {
      "name": "python3",
      "display_name": "Python 3"
    },
    "language_info": {
      "name": "python"
    }
  },
  "cells": [
    {
      "cell_type": "code",
      "execution_count": 1,
      "metadata": {
        "colab": {
          "base_uri": "https://localhost:8080/"
        },
        "id": "1hpW5SqkaccC",
        "outputId": "0c196734-4db9-452f-f0e8-6db7b555d585"
      },
      "outputs": [
        {
          "output_type": "stream",
          "name": "stdout",
          "text": [
            "Mounted at /content/gdrive/\n"
          ]
        }
      ],
      "source": [
        "from google.colab import drive\n",
        "drive.mount('/content/gdrive/')"
      ]
    },
    {
      "cell_type": "code",
      "source": [
        "import numpy as np\n",
        "import pandas as pd\n",
        "import plotly.graph_objects as go"
      ],
      "metadata": {
        "id": "rQIonTJPqZS5"
      },
      "execution_count": 3,
      "outputs": []
    },
    {
      "cell_type": "code",
      "source": [
        "data1 = pd.read_csv(\"./gdrive/MyDrive/ECMWF/monthly_average_dehli_april.csv\")\n",
        "data2 = pd.read_csv(\"./gdrive/MyDrive/ECMWF/monthly_average_bologna_april.csv\")\n",
        "data3 = pd.read_csv(\"./gdrive/MyDrive/ECMWF/monthly_average_prayagraj_april.csv\")\n",
        "data4 = pd.read_csv(\"./gdrive/MyDrive/ECMWF/monthly_average_moscow_april.csv\")\n",
        "data5 = pd.read_csv(\"./gdrive/MyDrive/ECMWF/monthly_average_ny_april.csv\")\n",
        "data6 = pd.read_csv(\"./gdrive/MyDrive/ECMWF/monthly_average_reading_april.csv\")\n",
        "data7 = pd.read_csv(\"./gdrive/MyDrive/ECMWF/monthly_average_sydney_april.csv\")\n",
        "data8 = pd.read_csv(\"./gdrive/MyDrive/ECMWF/monthly_average_saopaulo_april.csv\")\n",
        "data9 = pd.read_csv(\"./gdrive/MyDrive/ECMWF/monthly_average_sanfransisco_april.csv\")\n",
        "data10 = pd.read_csv(\"./gdrive/MyDrive/ECMWF/monthly_average_drc_april.csv\")\n",
        "data11 = pd.read_csv(\"./gdrive/MyDrive/ECMWF/monthly_average_unknown_april.csv\")\n",
        "data12 = pd.read_csv(\"./gdrive/MyDrive/ECMWF/monthly_average_greenland_april.csv\")\n",
        "data13 = pd.read_csv(\"./gdrive/MyDrive/ECMWF/monthly_average_beijing_april.csv\")"
      ],
      "metadata": {
        "id": "lICJ9CRublpT"
      },
      "execution_count": 108,
      "outputs": []
    },
    {
      "cell_type": "code",
      "source": [
        "chage = []\n",
        "for data in [data1, data2, data3, data4, data5, data6, data7, data8, data9, data10, data11, data12, data13]:\n",
        "    mean_past = np.mean(data['temp'][0:39])\n",
        "    mean_present = np.mean(data['temp'][39:44])\n",
        "    mean_change = (mean_present-mean_past)*100/mean_past\n",
        "    chage.append(mean_change)"
      ],
      "metadata": {
        "id": "URk6KRu8Y8tW"
      },
      "execution_count": 109,
      "outputs": []
    },
    {
      "cell_type": "code",
      "source": [
        "chage"
      ],
      "metadata": {
        "colab": {
          "base_uri": "https://localhost:8080/"
        },
        "id": "0IukfkHwZyZJ",
        "outputId": "a7d95a27-1740-4fc6-ada0-4ad1fab76a3f"
      },
      "execution_count": 110,
      "outputs": [
        {
          "output_type": "execute_result",
          "data": {
            "text/plain": [
              "[3.970980965577505,\n",
              " 11.837150298524765,\n",
              " 5.897881150938814,\n",
              " 8.376589276587932,\n",
              " 3.571328146412187,\n",
              " 7.4568776978036295,\n",
              " 5.765528353969165,\n",
              " 3.6083000086581225,\n",
              " 8.119015171148172,\n",
              " 3.0909579712075392,\n",
              " -11.294810196879084,\n",
              " -13.376922274671195,\n",
              " 9.121198211050194]"
            ]
          },
          "metadata": {},
          "execution_count": 110
        }
      ]
    },
    {
      "cell_type": "code",
      "source": [
        "# latitude = [28.644800, 44.494887, 25.473034]\n",
        "# longitude = [77.216721, 11.342616, 81.878357]\n",
        "# country = ['Italy','India','Russia', 'United States', 'United Kingdom', 'Australia', 'Brazil']\n",
        "lat = [28.644800, 44.494887, 25.473034, 55.751244, 40.730610, 51.454265, -33.865143, -23.533773, 37.78, -1.53, 71.88, 70.58, 40.33]\n",
        "lon = [77.216721, 11.342616, 81.878357, 37.618423, -73.935242, -0.978130, 151.209900, -46.625290, -122.30, 22.84, 106.34, -41.48, 116.35]\n",
        "names = ['Dehli', 'Bologna', 'Prayagraj', 'Moscow', 'NY', 'Reading', 'Sydney', 'SaoPaulo', 'SanFransisco', 'DRC', 'Siberia', 'Greenland', 'Beijing']"
      ],
      "metadata": {
        "id": "iFsgeNOebxY6"
      },
      "execution_count": 114,
      "outputs": []
    },
    {
      "cell_type": "code",
      "source": [
        "data_all = pd.DataFrame([lat, lon, chage, names])\n",
        "data_all = data_all.T\n",
        "data_all = data_all.rename(columns={0: 'lat', 1:'long', 2: 'mag', 3: 'location'})\n",
        "data_all = data_all.sort_values(by = 'mag', ascending = False)"
      ],
      "metadata": {
        "id": "FmsY5hPgd1Qr"
      },
      "execution_count": 115,
      "outputs": []
    },
    {
      "cell_type": "code",
      "source": [
        "data_all"
      ],
      "metadata": {
        "colab": {
          "base_uri": "https://localhost:8080/",
          "height": 457
        },
        "id": "-tME-lfXd3q3",
        "outputId": "3f47e6ad-bda9-462c-a5f4-9d406c9345c8"
      },
      "execution_count": 116,
      "outputs": [
        {
          "output_type": "execute_result",
          "data": {
            "text/plain": [
              "          lat       long        mag      location\n",
              "1   44.494887  11.342616   11.83715       Bologna\n",
              "12      40.33     116.35   9.121198       Beijing\n",
              "3   55.751244  37.618423   8.376589        Moscow\n",
              "8       37.78     -122.3   8.119015  SanFransisco\n",
              "5   51.454265   -0.97813   7.456878       Reading\n",
              "2   25.473034  81.878357   5.897881     Prayagraj\n",
              "6  -33.865143   151.2099   5.765528        Sydney\n",
              "0     28.6448  77.216721   3.970981         Dehli\n",
              "7  -23.533773  -46.62529     3.6083      SaoPaulo\n",
              "4    40.73061 -73.935242   3.571328            NY\n",
              "9       -1.53      22.84   3.090958           DRC\n",
              "10      71.88     106.34  -11.29481       Siberia\n",
              "11      70.58     -41.48 -13.376922     Greenland"
            ],
            "text/html": [
              "\n",
              "  <div id=\"df-7a2b8420-b6a9-4295-9470-902a75e676b8\">\n",
              "    <div class=\"colab-df-container\">\n",
              "      <div>\n",
              "<style scoped>\n",
              "    .dataframe tbody tr th:only-of-type {\n",
              "        vertical-align: middle;\n",
              "    }\n",
              "\n",
              "    .dataframe tbody tr th {\n",
              "        vertical-align: top;\n",
              "    }\n",
              "\n",
              "    .dataframe thead th {\n",
              "        text-align: right;\n",
              "    }\n",
              "</style>\n",
              "<table border=\"1\" class=\"dataframe\">\n",
              "  <thead>\n",
              "    <tr style=\"text-align: right;\">\n",
              "      <th></th>\n",
              "      <th>lat</th>\n",
              "      <th>long</th>\n",
              "      <th>mag</th>\n",
              "      <th>location</th>\n",
              "    </tr>\n",
              "  </thead>\n",
              "  <tbody>\n",
              "    <tr>\n",
              "      <th>1</th>\n",
              "      <td>44.494887</td>\n",
              "      <td>11.342616</td>\n",
              "      <td>11.83715</td>\n",
              "      <td>Bologna</td>\n",
              "    </tr>\n",
              "    <tr>\n",
              "      <th>12</th>\n",
              "      <td>40.33</td>\n",
              "      <td>116.35</td>\n",
              "      <td>9.121198</td>\n",
              "      <td>Beijing</td>\n",
              "    </tr>\n",
              "    <tr>\n",
              "      <th>3</th>\n",
              "      <td>55.751244</td>\n",
              "      <td>37.618423</td>\n",
              "      <td>8.376589</td>\n",
              "      <td>Moscow</td>\n",
              "    </tr>\n",
              "    <tr>\n",
              "      <th>8</th>\n",
              "      <td>37.78</td>\n",
              "      <td>-122.3</td>\n",
              "      <td>8.119015</td>\n",
              "      <td>SanFransisco</td>\n",
              "    </tr>\n",
              "    <tr>\n",
              "      <th>5</th>\n",
              "      <td>51.454265</td>\n",
              "      <td>-0.97813</td>\n",
              "      <td>7.456878</td>\n",
              "      <td>Reading</td>\n",
              "    </tr>\n",
              "    <tr>\n",
              "      <th>2</th>\n",
              "      <td>25.473034</td>\n",
              "      <td>81.878357</td>\n",
              "      <td>5.897881</td>\n",
              "      <td>Prayagraj</td>\n",
              "    </tr>\n",
              "    <tr>\n",
              "      <th>6</th>\n",
              "      <td>-33.865143</td>\n",
              "      <td>151.2099</td>\n",
              "      <td>5.765528</td>\n",
              "      <td>Sydney</td>\n",
              "    </tr>\n",
              "    <tr>\n",
              "      <th>0</th>\n",
              "      <td>28.6448</td>\n",
              "      <td>77.216721</td>\n",
              "      <td>3.970981</td>\n",
              "      <td>Dehli</td>\n",
              "    </tr>\n",
              "    <tr>\n",
              "      <th>7</th>\n",
              "      <td>-23.533773</td>\n",
              "      <td>-46.62529</td>\n",
              "      <td>3.6083</td>\n",
              "      <td>SaoPaulo</td>\n",
              "    </tr>\n",
              "    <tr>\n",
              "      <th>4</th>\n",
              "      <td>40.73061</td>\n",
              "      <td>-73.935242</td>\n",
              "      <td>3.571328</td>\n",
              "      <td>NY</td>\n",
              "    </tr>\n",
              "    <tr>\n",
              "      <th>9</th>\n",
              "      <td>-1.53</td>\n",
              "      <td>22.84</td>\n",
              "      <td>3.090958</td>\n",
              "      <td>DRC</td>\n",
              "    </tr>\n",
              "    <tr>\n",
              "      <th>10</th>\n",
              "      <td>71.88</td>\n",
              "      <td>106.34</td>\n",
              "      <td>-11.29481</td>\n",
              "      <td>Siberia</td>\n",
              "    </tr>\n",
              "    <tr>\n",
              "      <th>11</th>\n",
              "      <td>70.58</td>\n",
              "      <td>-41.48</td>\n",
              "      <td>-13.376922</td>\n",
              "      <td>Greenland</td>\n",
              "    </tr>\n",
              "  </tbody>\n",
              "</table>\n",
              "</div>\n",
              "      <button class=\"colab-df-convert\" onclick=\"convertToInteractive('df-7a2b8420-b6a9-4295-9470-902a75e676b8')\"\n",
              "              title=\"Convert this dataframe to an interactive table.\"\n",
              "              style=\"display:none;\">\n",
              "        \n",
              "  <svg xmlns=\"http://www.w3.org/2000/svg\" height=\"24px\"viewBox=\"0 0 24 24\"\n",
              "       width=\"24px\">\n",
              "    <path d=\"M0 0h24v24H0V0z\" fill=\"none\"/>\n",
              "    <path d=\"M18.56 5.44l.94 2.06.94-2.06 2.06-.94-2.06-.94-.94-2.06-.94 2.06-2.06.94zm-11 1L8.5 8.5l.94-2.06 2.06-.94-2.06-.94L8.5 2.5l-.94 2.06-2.06.94zm10 10l.94 2.06.94-2.06 2.06-.94-2.06-.94-.94-2.06-.94 2.06-2.06.94z\"/><path d=\"M17.41 7.96l-1.37-1.37c-.4-.4-.92-.59-1.43-.59-.52 0-1.04.2-1.43.59L10.3 9.45l-7.72 7.72c-.78.78-.78 2.05 0 2.83L4 21.41c.39.39.9.59 1.41.59.51 0 1.02-.2 1.41-.59l7.78-7.78 2.81-2.81c.8-.78.8-2.07 0-2.86zM5.41 20L4 18.59l7.72-7.72 1.47 1.35L5.41 20z\"/>\n",
              "  </svg>\n",
              "      </button>\n",
              "      \n",
              "  <style>\n",
              "    .colab-df-container {\n",
              "      display:flex;\n",
              "      flex-wrap:wrap;\n",
              "      gap: 12px;\n",
              "    }\n",
              "\n",
              "    .colab-df-convert {\n",
              "      background-color: #E8F0FE;\n",
              "      border: none;\n",
              "      border-radius: 50%;\n",
              "      cursor: pointer;\n",
              "      display: none;\n",
              "      fill: #1967D2;\n",
              "      height: 32px;\n",
              "      padding: 0 0 0 0;\n",
              "      width: 32px;\n",
              "    }\n",
              "\n",
              "    .colab-df-convert:hover {\n",
              "      background-color: #E2EBFA;\n",
              "      box-shadow: 0px 1px 2px rgba(60, 64, 67, 0.3), 0px 1px 3px 1px rgba(60, 64, 67, 0.15);\n",
              "      fill: #174EA6;\n",
              "    }\n",
              "\n",
              "    [theme=dark] .colab-df-convert {\n",
              "      background-color: #3B4455;\n",
              "      fill: #D2E3FC;\n",
              "    }\n",
              "\n",
              "    [theme=dark] .colab-df-convert:hover {\n",
              "      background-color: #434B5C;\n",
              "      box-shadow: 0px 1px 3px 1px rgba(0, 0, 0, 0.15);\n",
              "      filter: drop-shadow(0px 1px 2px rgba(0, 0, 0, 0.3));\n",
              "      fill: #FFFFFF;\n",
              "    }\n",
              "  </style>\n",
              "\n",
              "      <script>\n",
              "        const buttonEl =\n",
              "          document.querySelector('#df-7a2b8420-b6a9-4295-9470-902a75e676b8 button.colab-df-convert');\n",
              "        buttonEl.style.display =\n",
              "          google.colab.kernel.accessAllowed ? 'block' : 'none';\n",
              "\n",
              "        async function convertToInteractive(key) {\n",
              "          const element = document.querySelector('#df-7a2b8420-b6a9-4295-9470-902a75e676b8');\n",
              "          const dataTable =\n",
              "            await google.colab.kernel.invokeFunction('convertToInteractive',\n",
              "                                                     [key], {});\n",
              "          if (!dataTable) return;\n",
              "\n",
              "          const docLinkHtml = 'Like what you see? Visit the ' +\n",
              "            '<a target=\"_blank\" href=https://colab.research.google.com/notebooks/data_table.ipynb>data table notebook</a>'\n",
              "            + ' to learn more about interactive tables.';\n",
              "          element.innerHTML = '';\n",
              "          dataTable['output_type'] = 'display_data';\n",
              "          await google.colab.output.renderOutput(dataTable, element);\n",
              "          const docLink = document.createElement('div');\n",
              "          docLink.innerHTML = docLinkHtml;\n",
              "          element.appendChild(docLink);\n",
              "        }\n",
              "      </script>\n",
              "    </div>\n",
              "  </div>\n",
              "  "
            ]
          },
          "metadata": {},
          "execution_count": 116
        }
      ]
    },
    {
      "cell_type": "code",
      "source": [
        "# data_all = pd.DataFrame([latitude, longitude, chage, country])\n",
        "\n",
        "magnitude = [(8,12), (4,8), (0,4)]\n",
        "# colors = [\"#CC0000\",\"#CE1620\",\"#E34234\",\"#CD5C5C\",\"#FF0000\", \"#FF1C00\", \"#FF6961\", \"#F4C2C2\", \"#FFFAFA\"]\n",
        "colors = [\"#CC0000\",\"#FF0000\", \"#F4C2C2\"]\n",
        "scale = 3\n",
        "\n",
        "fig = go.Figure()\n",
        "\n",
        "for i in range(len(magnitude)):\n",
        "\n",
        "    magn = magnitude[i]\n",
        "\n",
        "    data_selected = data_all[(data_all['mag'] >= magn[0]) & (data_all['mag'] < magn[1])]\n",
        "    # print(data_selected['country'])\n",
        "\n",
        "    fig.add_trace(go.Scattergeo(\n",
        "    lat=data_selected['lat'],\n",
        "    lon=data_selected['long'],\n",
        "    hovertext = data_selected['location']+', '+ str(round(data_selected['mag'].values[0], 2))+'%',\n",
        "    # locationmode = 'country names',\n",
        "    # locations = [data_selected['country'].iloc[0]],\n",
        "    marker = dict(\n",
        "        size = np.abs(data_selected['mag'].values[0] * scale),\n",
        "        color = colors[i],\n",
        "        line_color = 'rgb(40,40,40)',\n",
        "        line_width = 0.0001,\n",
        "        sizemode = 'diameter'),\n",
        "    name = '{0} - {1}'.format(magn[0], magn[1])\n",
        "    ))\n",
        "\n",
        "# fig.update_layout(\n",
        "#   showlegend = True,\n",
        "#   geo = dict(scope = 'usa', landcolor = 'rgb(217, 217, 217)')\n",
        "# )\n",
        "\n",
        "fig.show()"
      ],
      "metadata": {
        "id": "DTAL0WGNMnc7",
        "colab": {
          "base_uri": "https://localhost:8080/",
          "height": 542
        },
        "outputId": "0df68407-3f3f-41ab-8a81-55f7f34c1f1e"
      },
      "execution_count": 130,
      "outputs": [
        {
          "output_type": "display_data",
          "data": {
            "text/html": [
              "<html>\n",
              "<head><meta charset=\"utf-8\" /></head>\n",
              "<body>\n",
              "    <div>            <script src=\"https://cdnjs.cloudflare.com/ajax/libs/mathjax/2.7.5/MathJax.js?config=TeX-AMS-MML_SVG\"></script><script type=\"text/javascript\">if (window.MathJax) {MathJax.Hub.Config({SVG: {font: \"STIX-Web\"}});}</script>                <script type=\"text/javascript\">window.PlotlyConfig = {MathJaxConfig: 'local'};</script>\n",
              "        <script src=\"https://cdn.plot.ly/plotly-2.8.3.min.js\"></script>                <div id=\"bc7d484a-2f27-480f-badf-5e7aea0db2f9\" class=\"plotly-graph-div\" style=\"height:525px; width:100%;\"></div>            <script type=\"text/javascript\">                                    window.PLOTLYENV=window.PLOTLYENV || {};                                    if (document.getElementById(\"bc7d484a-2f27-480f-badf-5e7aea0db2f9\")) {                    Plotly.newPlot(                        \"bc7d484a-2f27-480f-badf-5e7aea0db2f9\",                        [{\"hovertext\":[\"Bologna, 11.84%\",\"Beijing, 11.84%\",\"Moscow, 11.84%\",\"SanFransisco, 11.84%\"],\"lat\":[44.494887,40.33,55.751244,37.78],\"lon\":[11.342616,116.35,37.618423,-122.3],\"marker\":{\"color\":\"#CC0000\",\"line\":{\"color\":\"rgb(40,40,40)\",\"width\":0.0001},\"size\":35.5114508955743,\"sizemode\":\"diameter\"},\"name\":\"8 - 12\",\"type\":\"scattergeo\"},{\"hovertext\":[\"Reading, 7.46%\",\"Prayagraj, 7.46%\",\"Sydney, 7.46%\"],\"lat\":[51.454265,25.473034,-33.865143],\"lon\":[-0.97813,81.878357,151.2099],\"marker\":{\"color\":\"#FF0000\",\"line\":{\"color\":\"rgb(40,40,40)\",\"width\":0.0001},\"size\":22.370633093410888,\"sizemode\":\"diameter\"},\"name\":\"4 - 8\",\"type\":\"scattergeo\"},{\"hovertext\":[\"Dehli, 3.97%\",\"SaoPaulo, 3.97%\",\"NY, 3.97%\",\"DRC, 3.97%\"],\"lat\":[28.6448,-23.533773,40.73061,-1.53],\"lon\":[77.216721,-46.62529,-73.935242,22.84],\"marker\":{\"color\":\"#F4C2C2\",\"line\":{\"color\":\"rgb(40,40,40)\",\"width\":0.0001},\"size\":11.912942896732515,\"sizemode\":\"diameter\"},\"name\":\"0 - 4\",\"type\":\"scattergeo\"}],                        {\"template\":{\"data\":{\"bar\":[{\"error_x\":{\"color\":\"#2a3f5f\"},\"error_y\":{\"color\":\"#2a3f5f\"},\"marker\":{\"line\":{\"color\":\"#E5ECF6\",\"width\":0.5},\"pattern\":{\"fillmode\":\"overlay\",\"size\":10,\"solidity\":0.2}},\"type\":\"bar\"}],\"barpolar\":[{\"marker\":{\"line\":{\"color\":\"#E5ECF6\",\"width\":0.5},\"pattern\":{\"fillmode\":\"overlay\",\"size\":10,\"solidity\":0.2}},\"type\":\"barpolar\"}],\"carpet\":[{\"aaxis\":{\"endlinecolor\":\"#2a3f5f\",\"gridcolor\":\"white\",\"linecolor\":\"white\",\"minorgridcolor\":\"white\",\"startlinecolor\":\"#2a3f5f\"},\"baxis\":{\"endlinecolor\":\"#2a3f5f\",\"gridcolor\":\"white\",\"linecolor\":\"white\",\"minorgridcolor\":\"white\",\"startlinecolor\":\"#2a3f5f\"},\"type\":\"carpet\"}],\"choropleth\":[{\"colorbar\":{\"outlinewidth\":0,\"ticks\":\"\"},\"type\":\"choropleth\"}],\"contour\":[{\"colorbar\":{\"outlinewidth\":0,\"ticks\":\"\"},\"colorscale\":[[0.0,\"#0d0887\"],[0.1111111111111111,\"#46039f\"],[0.2222222222222222,\"#7201a8\"],[0.3333333333333333,\"#9c179e\"],[0.4444444444444444,\"#bd3786\"],[0.5555555555555556,\"#d8576b\"],[0.6666666666666666,\"#ed7953\"],[0.7777777777777778,\"#fb9f3a\"],[0.8888888888888888,\"#fdca26\"],[1.0,\"#f0f921\"]],\"type\":\"contour\"}],\"contourcarpet\":[{\"colorbar\":{\"outlinewidth\":0,\"ticks\":\"\"},\"type\":\"contourcarpet\"}],\"heatmap\":[{\"colorbar\":{\"outlinewidth\":0,\"ticks\":\"\"},\"colorscale\":[[0.0,\"#0d0887\"],[0.1111111111111111,\"#46039f\"],[0.2222222222222222,\"#7201a8\"],[0.3333333333333333,\"#9c179e\"],[0.4444444444444444,\"#bd3786\"],[0.5555555555555556,\"#d8576b\"],[0.6666666666666666,\"#ed7953\"],[0.7777777777777778,\"#fb9f3a\"],[0.8888888888888888,\"#fdca26\"],[1.0,\"#f0f921\"]],\"type\":\"heatmap\"}],\"heatmapgl\":[{\"colorbar\":{\"outlinewidth\":0,\"ticks\":\"\"},\"colorscale\":[[0.0,\"#0d0887\"],[0.1111111111111111,\"#46039f\"],[0.2222222222222222,\"#7201a8\"],[0.3333333333333333,\"#9c179e\"],[0.4444444444444444,\"#bd3786\"],[0.5555555555555556,\"#d8576b\"],[0.6666666666666666,\"#ed7953\"],[0.7777777777777778,\"#fb9f3a\"],[0.8888888888888888,\"#fdca26\"],[1.0,\"#f0f921\"]],\"type\":\"heatmapgl\"}],\"histogram\":[{\"marker\":{\"pattern\":{\"fillmode\":\"overlay\",\"size\":10,\"solidity\":0.2}},\"type\":\"histogram\"}],\"histogram2d\":[{\"colorbar\":{\"outlinewidth\":0,\"ticks\":\"\"},\"colorscale\":[[0.0,\"#0d0887\"],[0.1111111111111111,\"#46039f\"],[0.2222222222222222,\"#7201a8\"],[0.3333333333333333,\"#9c179e\"],[0.4444444444444444,\"#bd3786\"],[0.5555555555555556,\"#d8576b\"],[0.6666666666666666,\"#ed7953\"],[0.7777777777777778,\"#fb9f3a\"],[0.8888888888888888,\"#fdca26\"],[1.0,\"#f0f921\"]],\"type\":\"histogram2d\"}],\"histogram2dcontour\":[{\"colorbar\":{\"outlinewidth\":0,\"ticks\":\"\"},\"colorscale\":[[0.0,\"#0d0887\"],[0.1111111111111111,\"#46039f\"],[0.2222222222222222,\"#7201a8\"],[0.3333333333333333,\"#9c179e\"],[0.4444444444444444,\"#bd3786\"],[0.5555555555555556,\"#d8576b\"],[0.6666666666666666,\"#ed7953\"],[0.7777777777777778,\"#fb9f3a\"],[0.8888888888888888,\"#fdca26\"],[1.0,\"#f0f921\"]],\"type\":\"histogram2dcontour\"}],\"mesh3d\":[{\"colorbar\":{\"outlinewidth\":0,\"ticks\":\"\"},\"type\":\"mesh3d\"}],\"parcoords\":[{\"line\":{\"colorbar\":{\"outlinewidth\":0,\"ticks\":\"\"}},\"type\":\"parcoords\"}],\"pie\":[{\"automargin\":true,\"type\":\"pie\"}],\"scatter\":[{\"marker\":{\"colorbar\":{\"outlinewidth\":0,\"ticks\":\"\"}},\"type\":\"scatter\"}],\"scatter3d\":[{\"line\":{\"colorbar\":{\"outlinewidth\":0,\"ticks\":\"\"}},\"marker\":{\"colorbar\":{\"outlinewidth\":0,\"ticks\":\"\"}},\"type\":\"scatter3d\"}],\"scattercarpet\":[{\"marker\":{\"colorbar\":{\"outlinewidth\":0,\"ticks\":\"\"}},\"type\":\"scattercarpet\"}],\"scattergeo\":[{\"marker\":{\"colorbar\":{\"outlinewidth\":0,\"ticks\":\"\"}},\"type\":\"scattergeo\"}],\"scattergl\":[{\"marker\":{\"colorbar\":{\"outlinewidth\":0,\"ticks\":\"\"}},\"type\":\"scattergl\"}],\"scattermapbox\":[{\"marker\":{\"colorbar\":{\"outlinewidth\":0,\"ticks\":\"\"}},\"type\":\"scattermapbox\"}],\"scatterpolar\":[{\"marker\":{\"colorbar\":{\"outlinewidth\":0,\"ticks\":\"\"}},\"type\":\"scatterpolar\"}],\"scatterpolargl\":[{\"marker\":{\"colorbar\":{\"outlinewidth\":0,\"ticks\":\"\"}},\"type\":\"scatterpolargl\"}],\"scatterternary\":[{\"marker\":{\"colorbar\":{\"outlinewidth\":0,\"ticks\":\"\"}},\"type\":\"scatterternary\"}],\"surface\":[{\"colorbar\":{\"outlinewidth\":0,\"ticks\":\"\"},\"colorscale\":[[0.0,\"#0d0887\"],[0.1111111111111111,\"#46039f\"],[0.2222222222222222,\"#7201a8\"],[0.3333333333333333,\"#9c179e\"],[0.4444444444444444,\"#bd3786\"],[0.5555555555555556,\"#d8576b\"],[0.6666666666666666,\"#ed7953\"],[0.7777777777777778,\"#fb9f3a\"],[0.8888888888888888,\"#fdca26\"],[1.0,\"#f0f921\"]],\"type\":\"surface\"}],\"table\":[{\"cells\":{\"fill\":{\"color\":\"#EBF0F8\"},\"line\":{\"color\":\"white\"}},\"header\":{\"fill\":{\"color\":\"#C8D4E3\"},\"line\":{\"color\":\"white\"}},\"type\":\"table\"}]},\"layout\":{\"annotationdefaults\":{\"arrowcolor\":\"#2a3f5f\",\"arrowhead\":0,\"arrowwidth\":1},\"autotypenumbers\":\"strict\",\"coloraxis\":{\"colorbar\":{\"outlinewidth\":0,\"ticks\":\"\"}},\"colorscale\":{\"diverging\":[[0,\"#8e0152\"],[0.1,\"#c51b7d\"],[0.2,\"#de77ae\"],[0.3,\"#f1b6da\"],[0.4,\"#fde0ef\"],[0.5,\"#f7f7f7\"],[0.6,\"#e6f5d0\"],[0.7,\"#b8e186\"],[0.8,\"#7fbc41\"],[0.9,\"#4d9221\"],[1,\"#276419\"]],\"sequential\":[[0.0,\"#0d0887\"],[0.1111111111111111,\"#46039f\"],[0.2222222222222222,\"#7201a8\"],[0.3333333333333333,\"#9c179e\"],[0.4444444444444444,\"#bd3786\"],[0.5555555555555556,\"#d8576b\"],[0.6666666666666666,\"#ed7953\"],[0.7777777777777778,\"#fb9f3a\"],[0.8888888888888888,\"#fdca26\"],[1.0,\"#f0f921\"]],\"sequentialminus\":[[0.0,\"#0d0887\"],[0.1111111111111111,\"#46039f\"],[0.2222222222222222,\"#7201a8\"],[0.3333333333333333,\"#9c179e\"],[0.4444444444444444,\"#bd3786\"],[0.5555555555555556,\"#d8576b\"],[0.6666666666666666,\"#ed7953\"],[0.7777777777777778,\"#fb9f3a\"],[0.8888888888888888,\"#fdca26\"],[1.0,\"#f0f921\"]]},\"colorway\":[\"#636efa\",\"#EF553B\",\"#00cc96\",\"#ab63fa\",\"#FFA15A\",\"#19d3f3\",\"#FF6692\",\"#B6E880\",\"#FF97FF\",\"#FECB52\"],\"font\":{\"color\":\"#2a3f5f\"},\"geo\":{\"bgcolor\":\"white\",\"lakecolor\":\"white\",\"landcolor\":\"#E5ECF6\",\"showlakes\":true,\"showland\":true,\"subunitcolor\":\"white\"},\"hoverlabel\":{\"align\":\"left\"},\"hovermode\":\"closest\",\"mapbox\":{\"style\":\"light\"},\"paper_bgcolor\":\"white\",\"plot_bgcolor\":\"#E5ECF6\",\"polar\":{\"angularaxis\":{\"gridcolor\":\"white\",\"linecolor\":\"white\",\"ticks\":\"\"},\"bgcolor\":\"#E5ECF6\",\"radialaxis\":{\"gridcolor\":\"white\",\"linecolor\":\"white\",\"ticks\":\"\"}},\"scene\":{\"xaxis\":{\"backgroundcolor\":\"#E5ECF6\",\"gridcolor\":\"white\",\"gridwidth\":2,\"linecolor\":\"white\",\"showbackground\":true,\"ticks\":\"\",\"zerolinecolor\":\"white\"},\"yaxis\":{\"backgroundcolor\":\"#E5ECF6\",\"gridcolor\":\"white\",\"gridwidth\":2,\"linecolor\":\"white\",\"showbackground\":true,\"ticks\":\"\",\"zerolinecolor\":\"white\"},\"zaxis\":{\"backgroundcolor\":\"#E5ECF6\",\"gridcolor\":\"white\",\"gridwidth\":2,\"linecolor\":\"white\",\"showbackground\":true,\"ticks\":\"\",\"zerolinecolor\":\"white\"}},\"shapedefaults\":{\"line\":{\"color\":\"#2a3f5f\"}},\"ternary\":{\"aaxis\":{\"gridcolor\":\"white\",\"linecolor\":\"white\",\"ticks\":\"\"},\"baxis\":{\"gridcolor\":\"white\",\"linecolor\":\"white\",\"ticks\":\"\"},\"bgcolor\":\"#E5ECF6\",\"caxis\":{\"gridcolor\":\"white\",\"linecolor\":\"white\",\"ticks\":\"\"}},\"title\":{\"x\":0.05},\"xaxis\":{\"automargin\":true,\"gridcolor\":\"white\",\"linecolor\":\"white\",\"ticks\":\"\",\"title\":{\"standoff\":15},\"zerolinecolor\":\"white\",\"zerolinewidth\":2},\"yaxis\":{\"automargin\":true,\"gridcolor\":\"white\",\"linecolor\":\"white\",\"ticks\":\"\",\"title\":{\"standoff\":15},\"zerolinecolor\":\"white\",\"zerolinewidth\":2}}}},                        {\"responsive\": true}                    ).then(function(){\n",
              "                            \n",
              "var gd = document.getElementById('bc7d484a-2f27-480f-badf-5e7aea0db2f9');\n",
              "var x = new MutationObserver(function (mutations, observer) {{\n",
              "        var display = window.getComputedStyle(gd).display;\n",
              "        if (!display || display === 'none') {{\n",
              "            console.log([gd, 'removed!']);\n",
              "            Plotly.purge(gd);\n",
              "            observer.disconnect();\n",
              "        }}\n",
              "}});\n",
              "\n",
              "// Listen for the removal of the full notebook cells\n",
              "var notebookContainer = gd.closest('#notebook-container');\n",
              "if (notebookContainer) {{\n",
              "    x.observe(notebookContainer, {childList: true});\n",
              "}}\n",
              "\n",
              "// Listen for the clearing of the current output cell\n",
              "var outputEl = gd.closest('.output');\n",
              "if (outputEl) {{\n",
              "    x.observe(outputEl, {childList: true});\n",
              "}}\n",
              "\n",
              "                        })                };                            </script>        </div>\n",
              "</body>\n",
              "</html>"
            ]
          },
          "metadata": {}
        }
      ]
    },
    {
      "cell_type": "code",
      "source": [
        ""
      ],
      "metadata": {
        "id": "8XgigL9Sd2gr"
      },
      "execution_count": null,
      "outputs": []
    },
    {
      "cell_type": "code",
      "source": [
        ""
      ],
      "metadata": {
        "id": "cQE4uIqYde8s"
      },
      "execution_count": null,
      "outputs": []
    }
  ]
}